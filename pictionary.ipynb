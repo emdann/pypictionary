{
 "cells": [
  {
   "cell_type": "markdown",
   "id": "threaded-johns",
   "metadata": {},
   "source": [
    "## Pictionary"
   ]
  },
  {
   "cell_type": "code",
   "execution_count": 195,
   "id": "weird-bishop",
   "metadata": {},
   "outputs": [],
   "source": [
    "import pandas as pd\n",
    "import numpy as np\n",
    "import random\n",
    "import copy\n",
    "import time\n",
    "\n",
    "def pick_word(words_dict_game, level='easy'):\n",
    "    w = random.sample(words_dict_game[level], k=1)[0]\n",
    "    words_dict_game[level].remove(w)\n",
    "    print(\"The word is:\")\n",
    "    print(\"       \")\n",
    "    print(\"    {w}    \".format(w=w))\n",
    "    print(\"       \")\n",
    "    return(words_dict_game)\n",
    "\n",
    "def choose_next_level(all_levels_n, current_level): \n",
    "    all_levels_left = [k for k,v in all_levels_n.items() if v > 0] \n",
    "    l = random.sample([l for l in all_levels_left if l != current_level], k=1)[0]\n",
    "    return(l)\n",
    "\n",
    "def print_leaderboard(game_status, status=\"Current\"):\n",
    "    team_order_ixs = np.argsort([game_status[t]['score'] for t in game_status.keys()])\n",
    "    team_names = [t for t in game_status.keys()]\n",
    "    team_order = [team_names[i] for i in team_order_ixs[::-1]]\n",
    "    print(\"==============\")\n",
    "    print(\"{s} score:\".format(s=status))\n",
    "    print(\"==============\")\n",
    "    for t in team_order:\n",
    "        print(\"{t} : {n} points\".format(t=t, n=game_status[t]['score']))\n",
    "    print(\"==============\")\n",
    "    \n",
    "def get_winner(game_status):\n",
    "    team_names = [t for t in game_status.keys()]\n",
    "    top_score = max([game_status[t]['score'] for t in game_status.keys()])\n",
    "    winner_ix = np.where([game_status[t]['score']==top_score for t in game_status.keys()])[0]\n",
    "    return([team_names[ix] for ix in winner_ix])"
   ]
  },
  {
   "cell_type": "markdown",
   "id": "scientific-thong",
   "metadata": {},
   "source": [
    "### Load words"
   ]
  },
  {
   "cell_type": "code",
   "execution_count": 194,
   "id": "prostate-burden",
   "metadata": {},
   "outputs": [],
   "source": [
    "## Load words\n",
    "words_df = pd.read_csv('./pictionary_words.csv')\n",
    "words_dict = {l:words_df.word.values[words_df.level == l].tolist() for l in words_df.level.unique()}"
   ]
  },
  {
   "cell_type": "markdown",
   "id": "genetic-public",
   "metadata": {},
   "source": [
    "### Select number of teams and rounds"
   ]
  },
  {
   "cell_type": "code",
   "execution_count": 194,
   "id": "under-guess",
   "metadata": {},
   "outputs": [],
   "source": [
    "n_rounds = 3\n",
    "n_teams = 2\n",
    "all_levels = {k:len(v) for k,v in words_dict_game.items()}"
   ]
  },
  {
   "cell_type": "markdown",
   "id": "paperback-sunday",
   "metadata": {},
   "source": [
    "### Play"
   ]
  },
  {
   "cell_type": "code",
   "execution_count": 194,
   "id": "horizontal-bankruptcy",
   "metadata": {},
   "outputs": [],
   "source": [
    "## Make tracker for game status\n",
    "game_status = {'Team{i}'.format(i=i+1):{\n",
    "    'current_level':'easy', \n",
    "    \"current_round\":1,\n",
    "    'score':0} for i in range(n_teams)}\n",
    "\n",
    "## Play\n",
    "words_dict_game = copy.deepcopy(words_dict)\n",
    "while any([game_status[k]['current_round'] < (n_rounds+1) for k in game_status.keys()]):\n",
    "    for t in game_status.keys():\n",
    "        print(\"==============\")\n",
    "        print(\"   \")\n",
    "        print(\"==============\")\n",
    "        print('{t} || Round {i}'.format(t=t, i=game_status[t]['current_round']))\n",
    "        pick_word(words_dict_game, level=game_status[t]['current_level'])\n",
    "        ## Check no of words left in each level\n",
    "        all_levels = {k:len(v) for k,v in words_dict_game.items()}\n",
    "        ## Update level\n",
    "        game_status[t]['current_level'] = choose_next_level(all_levels, game_status[t]['current_level'])\n",
    "        ## Update round\n",
    "        game_status[t]['current_round'] += 1 \n",
    "        ## Update score\n",
    "        turn_score = input(\"Did they guess? (y/n)\")\n",
    "        if turn_score == 'y':\n",
    "            game_status[t]['score'] += 1\n",
    "        print_leaderboard(game_status)\n",
    "        start_turn = input(\"Next turn?\")\n",
    "\n",
    "print(\" \")\n",
    "print(\" \")\n",
    "print(\" \")\n",
    "print(\" \")\n",
    "print(\"==================\")\n",
    "print(\"The game is over!!\")\n",
    "print(\"==================\")\n",
    "print(\" \")\n",
    "print(\" \")\n",
    "print(\" \")\n",
    "print(\"And the winner is....\")\n",
    "time.sleep(5)\n",
    "winner = get_winner(game_status)\n",
    "if len(winner) == 1:\n",
    "    print(\"...{w}!\".format(w=winner[0]))\n",
    "else:\n",
    "    print(\"It's a tie!!\")\n",
    "time.sleep(3)\n",
    "print_leaderboard(game_status, status=\"Final\")\n",
    "time.sleep(3)"
   ]
  }
 ],
 "metadata": {
  "kernelspec": {
   "display_name": "Python (emma_env)",
   "language": "python",
   "name": "emma_env"
  },
  "language_info": {
   "codemirror_mode": {
    "name": "ipython",
    "version": 3
   },
   "file_extension": ".py",
   "mimetype": "text/x-python",
   "name": "python",
   "nbconvert_exporter": "python",
   "pygments_lexer": "ipython3",
   "version": "3.7.8"
  }
 },
 "nbformat": 4,
 "nbformat_minor": 5
}
